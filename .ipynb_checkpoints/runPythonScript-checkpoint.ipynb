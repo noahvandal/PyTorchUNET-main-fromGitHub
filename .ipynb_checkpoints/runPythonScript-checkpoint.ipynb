{
 "cells": [
  {
   "cell_type": "code",
   "execution_count": null,
   "id": "965d3ac4-ba85-424b-95c8-3ec58f1d2d12",
   "metadata": {},
   "outputs": [
    {
     "name": "stdout",
     "output_type": "stream",
     "text": [
      "name 0\n",
      "video 0.mp4\n",
      "video path C:/Users/noah.vandal/OneDrive/NDSU Research/Microfluidic ML Device/Videos/Cancer Cells December 15/25x/DMEM/HPNEnMIA/0.mp4\n",
      "new save path C:/Users/noah.vandal/OneDrive/NDSU Research/Microfluidic ML Device/Videos/Cancer Cells December 15/25x/DMEM/HPNEnMIAOutput//0\n",
      "save csv output C:/Users/noah.vandal/OneDrive/NDSU Research/Microfluidic ML Device/Videos/Cancer Cells December 15/25x/DMEM/HPNEnMIAOutput/0.csv\n"
     ]
    }
   ],
   "source": [
    "from realTimeInference import main\n",
    "import os\n",
    "\n",
    "\n",
    "rootPath = 'C:/Users/noah.vandal/OneDrive/NDSU Research/Microfluidic ML Device/'\n",
    "\n",
    "modelpath = rootPath + \\\n",
    "    'Videos/Train Images/3D Train/FullTrainDataset/Weights/01182023_ReduceLRonPlateau_model_2xscale.pt'\n",
    "imagepath = rootPath + 'Videos/Cancer Cells December 15/25x/DMEM/HPNEnMIA'\n",
    "saveimagepath = rootPath + 'Videos/Cancer Cells December 15/25x/DMEM/HPNEnMIAOutput/'\n",
    "\n",
    "\n",
    "videofolder = os.listdir(imagepath)\n",
    "magnification = 25\n",
    "\n",
    "\n",
    "if __name__ == '__main__':\n",
    "    for video in videofolder:\n",
    "        name = video[:-4]\n",
    "        print('name', name)\n",
    "        print('video', video)\n",
    "        videoPath = imagepath + '/' + video\n",
    "        newsavefolder = saveimagepath + '/' + name\n",
    "\n",
    "        if not os.path.exists(newsavefolder):\n",
    "            os.makedirs(newsavefolder)\n",
    "\n",
    "        newsavepath = newsavefolder + '/'\n",
    "\n",
    "        savecsvpath = saveimagepath + name + '.csv'\n",
    "\n",
    "        print('video path', videoPath)\n",
    "        print('new save path', newsavefolder)\n",
    "        print('save csv output', savecsvpath)\n",
    "\n",
    "        main(videoPath, newsavepath, savecsvpath, modelpath, magnification)\n"
   ]
  },
  {
   "cell_type": "code",
   "execution_count": null,
   "id": "dbf7ef8d-589a-41cf-aad4-f5a76474d80b",
   "metadata": {},
   "outputs": [],
   "source": []
  }
 ],
 "metadata": {
  "kernelspec": {
   "display_name": "Python 3 (ipykernel)",
   "language": "python",
   "name": "python3"
  },
  "language_info": {
   "codemirror_mode": {
    "name": "ipython",
    "version": 3
   },
   "file_extension": ".py",
   "mimetype": "text/x-python",
   "name": "python",
   "nbconvert_exporter": "python",
   "pygments_lexer": "ipython3",
   "version": "3.10.9"
  }
 },
 "nbformat": 4,
 "nbformat_minor": 5
}
